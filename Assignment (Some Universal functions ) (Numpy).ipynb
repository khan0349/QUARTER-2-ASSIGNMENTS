{
 "cells": [
  {
   "cell_type": "code",
   "execution_count": 1,
   "id": "808cb7b4",
   "metadata": {},
   "outputs": [],
   "source": [
    "import numpy as np"
   ]
  },
  {
   "cell_type": "code",
   "execution_count": 20,
   "id": "f129ca53",
   "metadata": {},
   "outputs": [],
   "source": [
    "# shapes must be same in order to perform operation simultaneously\n",
    "a=np.arange(10).reshape(5,2)\n",
    "b=np.arange(10,20,).reshape(5,2)"
   ]
  },
  {
   "cell_type": "code",
   "execution_count": 21,
   "id": "28e11338",
   "metadata": {},
   "outputs": [
    {
     "data": {
      "text/plain": [
       "array([[0, 1],\n",
       "       [2, 3],\n",
       "       [4, 5],\n",
       "       [6, 7],\n",
       "       [8, 9]])"
      ]
     },
     "metadata": {},
     "output_type": "display_data"
    },
    {
     "data": {
      "text/plain": [
       "array([[10, 11],\n",
       "       [12, 13],\n",
       "       [14, 15],\n",
       "       [16, 17],\n",
       "       [18, 19]])"
      ]
     },
     "metadata": {},
     "output_type": "display_data"
    },
    {
     "data": {
      "text/plain": [
       "array([[10, 12],\n",
       "       [14, 16],\n",
       "       [18, 20],\n",
       "       [22, 24],\n",
       "       [26, 28]])"
      ]
     },
     "execution_count": 21,
     "metadata": {},
     "output_type": "execute_result"
    }
   ],
   "source": [
    "\n",
    "display(a)\n",
    "display(b)\n",
    "np.add(a,b)\n"
   ]
  },
  {
   "cell_type": "code",
   "execution_count": 37,
   "id": "8c4c1f96",
   "metadata": {},
   "outputs": [
    {
     "data": {
      "text/plain": [
       "array([[ 0,  1, 10, 11],\n",
       "       [ 2,  3, 12, 13],\n",
       "       [ 4,  5, 14, 15],\n",
       "       [ 6,  7, 16, 17],\n",
       "       [ 8,  9, 18, 19]])"
      ]
     },
     "metadata": {},
     "output_type": "display_data"
    }
   ],
   "source": [
    "display(np.concatenate((a,b),axis=1))"
   ]
  },
  {
   "cell_type": "code",
   "execution_count": 23,
   "id": "b8391e89",
   "metadata": {},
   "outputs": [
    {
     "data": {
      "text/plain": [
       "9.5"
      ]
     },
     "metadata": {},
     "output_type": "display_data"
    }
   ],
   "source": [
    "display(np.mean((a,b)))"
   ]
  },
  {
   "cell_type": "code",
   "execution_count": 24,
   "id": "af58bc6c",
   "metadata": {},
   "outputs": [
    {
     "data": {
      "text/plain": [
       "9.5"
      ]
     },
     "metadata": {},
     "output_type": "display_data"
    }
   ],
   "source": [
    "display(np.median((a,b)))"
   ]
  },
  {
   "cell_type": "code",
   "execution_count": 25,
   "id": "45632367",
   "metadata": {},
   "outputs": [
    {
     "data": {
      "text/plain": [
       "array([[-0.83907153,  0.0044257 ],\n",
       "       [ 0.84385396,  0.90744678],\n",
       "       [ 0.13673722, -0.75968791],\n",
       "       [-0.95765948, -0.27516334],\n",
       "       [ 0.66031671,  0.98870462]])"
      ]
     },
     "metadata": {},
     "output_type": "display_data"
    }
   ],
   "source": [
    "display(np.cos(b))"
   ]
  },
  {
   "cell_type": "code",
   "execution_count": 26,
   "id": "36665e9b",
   "metadata": {},
   "outputs": [
    {
     "data": {
      "text/plain": [
       "array([[-0.54402111, -0.99999021],\n",
       "       [-0.53657292,  0.42016704],\n",
       "       [ 0.99060736,  0.65028784],\n",
       "       [-0.28790332, -0.96139749],\n",
       "       [-0.75098725,  0.14987721]])"
      ]
     },
     "metadata": {},
     "output_type": "display_data"
    }
   ],
   "source": [
    "display(np.sin(b))"
   ]
  },
  {
   "cell_type": "code",
   "execution_count": 27,
   "id": "41b42cf7",
   "metadata": {},
   "outputs": [
    {
     "data": {
      "text/plain": [
       "array([[ 0.        ,  1.55740772],\n",
       "       [-2.18503986, -0.14254654],\n",
       "       [ 1.15782128, -3.38051501],\n",
       "       [-0.29100619,  0.87144798],\n",
       "       [-6.79971146, -0.45231566]])"
      ]
     },
     "metadata": {},
     "output_type": "display_data"
    }
   ],
   "source": [
    "display(np.tan(a))"
   ]
  },
  {
   "cell_type": "code",
   "execution_count": 28,
   "id": "1bcabbf9",
   "metadata": {},
   "outputs": [
    {
     "data": {
      "text/plain": [
       "5.766281297335398"
      ]
     },
     "metadata": {},
     "output_type": "display_data"
    }
   ],
   "source": [
    "display(np.std((a,b)))"
   ]
  },
  {
   "cell_type": "code",
   "execution_count": 44,
   "id": "b3d05b60",
   "metadata": {},
   "outputs": [],
   "source": [
    "c=np.arange(30,40).reshape(5,2)"
   ]
  },
  {
   "cell_type": "code",
   "execution_count": 55,
   "id": "c9e3bc5a",
   "metadata": {},
   "outputs": [
    {
     "data": {
      "text/plain": [
       "array([[0, 0],\n",
       "       [0, 0],\n",
       "       [2, 0],\n",
       "       [0, 2],\n",
       "       [6, 3]], dtype=int32)"
      ]
     },
     "metadata": {},
     "output_type": "display_data"
    }
   ],
   "source": [
    "a[0]=1\n",
    "display(np.mod(c,a))"
   ]
  },
  {
   "cell_type": "code",
   "execution_count": 56,
   "id": "b94eece4",
   "metadata": {},
   "outputs": [
    {
     "data": {
      "text/plain": [
       "array([[30, 10],\n",
       "       [30, 10],\n",
       "       [30, 10],\n",
       "       [30, 10],\n",
       "       [30, 10]])"
      ]
     },
     "metadata": {},
     "output_type": "display_data"
    }
   ],
   "source": [
    "display(np.where(c%2==1,10,30))"
   ]
  },
  {
   "cell_type": "code",
   "execution_count": 60,
   "id": "030d4151",
   "metadata": {},
   "outputs": [
    {
     "data": {
      "text/plain": [
       "array([[30.09, 30.09],\n",
       "       [30.18, 30.27],\n",
       "       [30.36, 30.45],\n",
       "       [30.54, 30.63],\n",
       "       [30.72, 30.81]])"
      ]
     },
     "metadata": {},
     "output_type": "display_data"
    }
   ],
   "source": [
    "display(np.percentile(c,a))"
   ]
  },
  {
   "cell_type": "code",
   "execution_count": 68,
   "id": "a39842b7",
   "metadata": {},
   "outputs": [
    {
     "data": {
      "text/plain": [
       "array([[[ 1,  1],\n",
       "        [ 2,  3],\n",
       "        [ 4,  5],\n",
       "        [ 6,  7],\n",
       "        [ 8,  9]],\n",
       "\n",
       "       [[10, 11],\n",
       "        [12, 13],\n",
       "        [14, 15],\n",
       "        [16, 17],\n",
       "        [18, 19]]])"
      ]
     },
     "metadata": {},
     "output_type": "display_data"
    },
    {
     "data": {
      "text/plain": [
       "array([[ 1,  1, 30, 31],\n",
       "       [ 2,  3, 32, 33],\n",
       "       [ 4,  5, 34, 35],\n",
       "       [ 6,  7, 36, 37],\n",
       "       [ 8,  9, 38, 39]])"
      ]
     },
     "metadata": {},
     "output_type": "display_data"
    },
    {
     "data": {
      "text/plain": [
       "array([[10, 11],\n",
       "       [12, 13],\n",
       "       [14, 15],\n",
       "       [16, 17],\n",
       "       [18, 19],\n",
       "       [30, 31],\n",
       "       [32, 33],\n",
       "       [34, 35],\n",
       "       [36, 37],\n",
       "       [38, 39]])"
      ]
     },
     "metadata": {},
     "output_type": "display_data"
    }
   ],
   "source": [
    "display(np.stack((a,b)))\n",
    "display(np.hstack((a,c)))\n",
    "display(np.vstack((b,c)))"
   ]
  },
  {
   "cell_type": "code",
   "execution_count": 73,
   "id": "811d479f",
   "metadata": {},
   "outputs": [
    {
     "data": {
      "text/plain": [
       "array([[1, 2, 4, 6, 8],\n",
       "       [1, 3, 5, 7, 9]])"
      ]
     },
     "execution_count": 73,
     "metadata": {},
     "output_type": "execute_result"
    }
   ],
   "source": [
    "a.transpose()"
   ]
  },
  {
   "cell_type": "code",
   "execution_count": 74,
   "id": "dba1c524",
   "metadata": {},
   "outputs": [
    {
     "data": {
      "text/plain": [
       "array([[10, 11],\n",
       "       [12, 13],\n",
       "       [14, 15],\n",
       "       [16, 17],\n",
       "       [18, 19]])"
      ]
     },
     "execution_count": 74,
     "metadata": {},
     "output_type": "execute_result"
    }
   ],
   "source": [
    "b.conjugate()"
   ]
  },
  {
   "cell_type": "code",
   "execution_count": 89,
   "id": "184c3f08",
   "metadata": {},
   "outputs": [
    {
     "data": {
      "text/plain": [
       "array([1, 1, 2, 3, 4, 5, 6, 7, 8, 9])"
      ]
     },
     "execution_count": 89,
     "metadata": {},
     "output_type": "execute_result"
    }
   ],
   "source": [
    "x=a.ravel()\n",
    "x=x.reshape(2,5)\n",
    "x.flatten()"
   ]
  },
  {
   "cell_type": "code",
   "execution_count": 137,
   "id": "b6b492f8",
   "metadata": {},
   "outputs": [
    {
     "data": {
      "text/plain": [
       "array([[40, 41, 42, 43, 44],\n",
       "       [45, 46, 47, 48, 49],\n",
       "       [50, 51, 52, 53, 54],\n",
       "       [55, 56, 57, 58, 59]])"
      ]
     },
     "execution_count": 137,
     "metadata": {},
     "output_type": "execute_result"
    }
   ],
   "source": [
    "d=np.arange(40,60).reshape(4,5)\n",
    "d"
   ]
  },
  {
   "cell_type": "code",
   "execution_count": 147,
   "id": "5e59e355",
   "metadata": {},
   "outputs": [
    {
     "data": {
      "text/plain": [
       "[array([[40, 41, 42, 43, 44]]),\n",
       " array([[45, 46, 47, 48, 49]]),\n",
       " array([[50, 51, 52, 53, 54]]),\n",
       " array([[55, 56, 57, 58, 59]])]"
      ]
     },
     "execution_count": 147,
     "metadata": {},
     "output_type": "execute_result"
    }
   ],
   "source": [
    "np.vsplit(d,4)"
   ]
  },
  {
   "cell_type": "code",
   "execution_count": 148,
   "id": "8324ae3d",
   "metadata": {},
   "outputs": [
    {
     "data": {
      "text/plain": [
       "[array([[40],\n",
       "        [45],\n",
       "        [50],\n",
       "        [55]]),\n",
       " array([[41],\n",
       "        [46],\n",
       "        [51],\n",
       "        [56]]),\n",
       " array([[42],\n",
       "        [47],\n",
       "        [52],\n",
       "        [57]]),\n",
       " array([[43],\n",
       "        [48],\n",
       "        [53],\n",
       "        [58]]),\n",
       " array([[44],\n",
       "        [49],\n",
       "        [54],\n",
       "        [59]])]"
      ]
     },
     "execution_count": 148,
     "metadata": {},
     "output_type": "execute_result"
    }
   ],
   "source": [
    "np.hsplit(d,5)"
   ]
  },
  {
   "cell_type": "code",
   "execution_count": 152,
   "id": "4354dd80",
   "metadata": {},
   "outputs": [
    {
     "data": {
      "text/plain": [
       "9"
      ]
     },
     "execution_count": 152,
     "metadata": {},
     "output_type": "execute_result"
    }
   ],
   "source": [
    "np.argmax(a)"
   ]
  },
  {
   "cell_type": "code",
   "execution_count": null,
   "id": "5e63086e",
   "metadata": {},
   "outputs": [],
   "source": []
  }
 ],
 "metadata": {
  "kernelspec": {
   "display_name": "Python 3 (ipykernel)",
   "language": "python",
   "name": "python3"
  },
  "language_info": {
   "codemirror_mode": {
    "name": "ipython",
    "version": 3
   },
   "file_extension": ".py",
   "mimetype": "text/x-python",
   "name": "python",
   "nbconvert_exporter": "python",
   "pygments_lexer": "ipython3",
   "version": "3.9.12"
  }
 },
 "nbformat": 4,
 "nbformat_minor": 5
}
